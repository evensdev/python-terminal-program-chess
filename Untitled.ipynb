{
 "cells": [
  {
   "cell_type": "code",
   "execution_count": 15,
   "id": "6fa9977a",
   "metadata": {},
   "outputs": [],
   "source": [
    "round = [['Round numero 1', '2023-01-21 19:11:26.350058', 'datetime.datetime(2023, 1, 21, 19, 11, 36, 147457)', [[['Evens', 4], ['Clara', 1]], [['Elodie', 0], ['Chelsea', 2]], [['Nina', 1], ['Seven', 2]], [['Kylian', 2], ['Elohim', 3]]]], ['Round numero 2', '2023-01-21 19:11:43.397692', 'datetime.datetime(2023, 1, 21, 19, 11, 47, 349600)', [[['Evens', 4], ['Elodie', 0]], [['Seven', 2], ['Chelsea', 2]], [['Kylian', 2], ['Nina', 1]], [['Clara', 1], ['Elohim', 3]]]], ['Round numero 3', None, 'datetime.datetime(2023, 1, 21, 19, 11, 55, 29699)', [[['Evens', 4], ['Kylian', 2]], [['Seven', 2], ['Chelsea', 2]], [['Elohim', 3], ['Elodie', 0]], [['Nina', 1], ['Clara', 1]]]], ['Round numero 4', None, 'datetime.datetime(2023, 1, 21, 19, 12, 6, 201584)', [[['Evens', 4], ['Chelsea', 2]], [['Kylian', 2], ['Elohim', 3]], [['Seven', 2], ['Clara', 1]], [['Elodie', 0], ['Chantal', None]]]]]\n"
   ]
  },
  {
   "cell_type": "code",
   "execution_count": 16,
   "id": "71b3d2d3",
   "metadata": {},
   "outputs": [
    {
     "name": "stdout",
     "output_type": "stream",
     "text": [
      "ok ok\n"
     ]
    }
   ],
   "source": [
    "if round[-1][-1][-1][-1][-1] != None:\n",
    "    print('çà marche')\n",
    "else:\n",
    "    print(\"ok ok\")\n"
   ]
  }
 ],
 "metadata": {
  "kernelspec": {
   "display_name": "Python 3 (ipykernel)",
   "language": "python",
   "name": "python3"
  },
  "language_info": {
   "codemirror_mode": {
    "name": "ipython",
    "version": 3
   },
   "file_extension": ".py",
   "mimetype": "text/x-python",
   "name": "python",
   "nbconvert_exporter": "python",
   "pygments_lexer": "ipython3",
   "version": "3.9.7"
  }
 },
 "nbformat": 4,
 "nbformat_minor": 5
}
